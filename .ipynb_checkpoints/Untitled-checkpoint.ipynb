{
 "cells": [
  {
   "cell_type": "code",
   "execution_count": 1,
   "metadata": {},
   "outputs": [],
   "source": [
    "import csv"
   ]
  },
  {
   "cell_type": "code",
   "execution_count": 2,
   "metadata": {},
   "outputs": [],
   "source": [
    "usertable = open('usertable.csv','r')\n",
    "rdr = csv.reader(usertable)\n",
    "user = []\n",
    "for row in rdr:\n",
    "    user.append(tuple(row))"
   ]
  },
  {
   "cell_type": "code",
   "execution_count": 3,
   "metadata": {},
   "outputs": [
    {
     "data": {
      "text/plain": [
       "[('2020-20826', 'jaehwan lim'),\n",
       " ('2020-11111', 'test1'),\n",
       " ('2020-11112', 'test2'),\n",
       " ('2020-11113', 'test3'),\n",
       " ('2020-11114', 'test4'),\n",
       " ('2020-11115', 'test5')]"
      ]
     },
     "execution_count": 3,
     "metadata": {},
     "output_type": "execute_result"
    }
   ],
   "source": [
    "user"
   ]
  },
  {
   "cell_type": "code",
   "execution_count": 4,
   "metadata": {},
   "outputs": [],
   "source": [
    "usertable.close()\n"
   ]
  },
  {
   "cell_type": "code",
   "execution_count": 5,
   "metadata": {},
   "outputs": [],
   "source": [
    "clustertable = open('clustertable.csv','r')\n",
    "reader = csv.reader(clustertable)\n",
    "cluster = []\n",
    "for row in reader:\n",
    "    cluster.append(tuple(map(int,row)))"
   ]
  },
  {
   "cell_type": "code",
   "execution_count": 6,
   "metadata": {},
   "outputs": [],
   "source": [
    "for row in reader:\n",
    "    cluster.append(tuple(map(int,row)))"
   ]
  },
  {
   "cell_type": "code",
   "execution_count": 7,
   "metadata": {},
   "outputs": [
    {
     "data": {
      "text/plain": [
       "[(1, 6, 0),\n",
       " (2, 3, 0),\n",
       " (3, 3, 0),\n",
       " (4, 6, 0),\n",
       " (5, 6, 0),\n",
       " (1001, 6, 0),\n",
       " (1002, 3, 0)]"
      ]
     },
     "execution_count": 7,
     "metadata": {},
     "output_type": "execute_result"
    }
   ],
   "source": [
    "cluster"
   ]
  },
  {
   "cell_type": "code",
   "execution_count": 8,
   "metadata": {},
   "outputs": [],
   "source": [
    "clustertable.close()"
   ]
  },
  {
   "cell_type": "code",
   "execution_count": 16,
   "metadata": {},
   "outputs": [],
   "source": [
    "seattable = open('seattable.csv','r')\n",
    "reader1= csv.reader(seattable)\n",
    "seat = []\n",
    "conv = lambda i : i or None\n",
    "for row in reader1:\n",
    "    try:\n",
    "        seat.append(((int(row[0]),conv(row[1]),int(conv(row[2])))))\n",
    "    except TypeError:\n",
    "        seat.append(((int(row[0]),conv(row[1]),conv(row[2]))))"
   ]
  },
  {
   "cell_type": "code",
   "execution_count": 10,
   "metadata": {},
   "outputs": [],
   "source": [
    "cluster[0]= None"
   ]
  },
  {
   "cell_type": "code",
   "execution_count": 17,
   "metadata": {},
   "outputs": [
    {
     "ename": "TypeError",
     "evalue": "int() argument must be a string, a bytes-like object or a number, not 'NoneType'",
     "output_type": "error",
     "traceback": [
      "\u001b[0;31m---------------------------------------------------------------------------\u001b[0m",
      "\u001b[0;31mTypeError\u001b[0m                                 Traceback (most recent call last)",
      "\u001b[0;32m<ipython-input-17-7e04b6fa7dca>\u001b[0m in \u001b[0;36m<module>\u001b[0;34m\u001b[0m\n\u001b[0;32m----> 1\u001b[0;31m \u001b[0mint\u001b[0m\u001b[0;34m(\u001b[0m\u001b[0mseat\u001b[0m\u001b[0;34m[\u001b[0m\u001b[0;36m0\u001b[0m\u001b[0;34m]\u001b[0m\u001b[0;34m[\u001b[0m\u001b[0;36m1\u001b[0m\u001b[0;34m]\u001b[0m\u001b[0;34m)\u001b[0m\u001b[0;34m\u001b[0m\u001b[0;34m\u001b[0m\u001b[0m\n\u001b[0m",
      "\u001b[0;31mTypeError\u001b[0m: int() argument must be a string, a bytes-like object or a number, not 'NoneType'"
     ]
    }
   ],
   "source": [
    "int(seat[0][1])"
   ]
  },
  {
   "cell_type": "code",
   "execution_count": 18,
   "metadata": {},
   "outputs": [
    {
     "data": {
      "text/plain": [
       "[(1, None, None),\n",
       " (2, None, None),\n",
       " (3, None, None),\n",
       " (4, None, None),\n",
       " (5, None, None),\n",
       " (1001, None, None),\n",
       " (1002, None, None),\n",
       " (1003, '2', 1)]"
      ]
     },
     "execution_count": 18,
     "metadata": {},
     "output_type": "execute_result"
    }
   ],
   "source": [
    "seat"
   ]
  },
  {
   "cell_type": "code",
   "execution_count": 1,
   "metadata": {},
   "outputs": [],
   "source": [
    "import sqlite3\n",
    "import csv"
   ]
  },
  {
   "cell_type": "code",
   "execution_count": 2,
   "metadata": {},
   "outputs": [],
   "source": [
    "conn = sqlite3.connect('test.db')"
   ]
  },
  {
   "cell_type": "code",
   "execution_count": 3,
   "metadata": {},
   "outputs": [],
   "source": [
    "c = conn.cursor()"
   ]
  },
  {
   "cell_type": "code",
   "execution_count": 4,
   "metadata": {},
   "outputs": [],
   "source": [
    "import random"
   ]
  },
  {
   "cell_type": "code",
   "execution_count": 5,
   "metadata": {},
   "outputs": [],
   "source": [
    "emy1 = []\n",
    "for row in c.execute('SELECT * from cluster'):\n",
    "    emy1.append(row)"
   ]
  },
  {
   "cell_type": "code",
   "execution_count": 6,
   "metadata": {},
   "outputs": [
    {
     "data": {
      "text/plain": [
       "[(1, 3, 2),\n",
       " (2, 3, 3),\n",
       " (3, 6, 2),\n",
       " (4, 6, 2),\n",
       " (5, 6, 3),\n",
       " (6, 6, 3),\n",
       " (7, 3, 3),\n",
       " (8, 3, 3),\n",
       " (9, 6, 3),\n",
       " (10, 6, 2),\n",
       " (11, 3, 3),\n",
       " (1001, 3, 3),\n",
       " (1002, 3, 3),\n",
       " (1003, 6, 2),\n",
       " (1004, 6, 3),\n",
       " (1005, 6, 2),\n",
       " (1006, 6, 3),\n",
       " (1007, 6, 3),\n",
       " (1008, 3, 2)]"
      ]
     },
     "execution_count": 6,
     "metadata": {},
     "output_type": "execute_result"
    }
   ],
   "source": [
    "emy1"
   ]
  },
  {
   "cell_type": "code",
   "execution_count": 7,
   "metadata": {},
   "outputs": [],
   "source": [
    "emy2 = []\n",
    "for row in c.execute('SELECT * from seat'):\n",
    "    emy2.append(row)"
   ]
  },
  {
   "cell_type": "code",
   "execution_count": 8,
   "metadata": {},
   "outputs": [
    {
     "data": {
      "text/plain": [
       "[(1, '18', 1),\n",
       " (2, None, 1),\n",
       " (3, '37', 1),\n",
       " (4, '39', 2),\n",
       " (5, '13', 2),\n",
       " (6, '7', 2),\n",
       " (7, None, 3),\n",
       " (8, '19', 3),\n",
       " (9, '35', 3),\n",
       " (10, None, 3),\n",
       " (11, None, 3),\n",
       " (12, None, 3),\n",
       " (13, None, 4),\n",
       " (14, None, 4),\n",
       " (15, '17', 4),\n",
       " (16, None, 4),\n",
       " (17, '49', 4),\n",
       " (18, None, 4),\n",
       " (19, None, 5),\n",
       " (20, None, 5),\n",
       " (21, '20', 5),\n",
       " (22, '47', 5),\n",
       " (23, None, 5),\n",
       " (24, '8', 5),\n",
       " (25, '40', 6),\n",
       " (26, '30', 6),\n",
       " (27, None, 6),\n",
       " (28, None, 6),\n",
       " (29, '12', 6),\n",
       " (30, None, 6),\n",
       " (31, '46', 7),\n",
       " (32, '16', 7),\n",
       " (33, '9', 7),\n",
       " (34, '31', 8),\n",
       " (35, '36', 8),\n",
       " (36, '4', 8),\n",
       " (37, '45', 9),\n",
       " (38, None, 9),\n",
       " (39, None, 9),\n",
       " (40, '21', 9),\n",
       " (41, None, 9),\n",
       " (42, '11', 9),\n",
       " (43, None, 10),\n",
       " (44, '50', 10),\n",
       " (45, None, 10),\n",
       " (46, None, 10),\n",
       " (47, None, 10),\n",
       " (48, '14', 10),\n",
       " (49, '10', 11),\n",
       " (50, '38', 11),\n",
       " (51, '22', 11),\n",
       " (1001, '6', 1001),\n",
       " (1002, '25', 1001),\n",
       " (1003, '48', 1001),\n",
       " (1004, '5', 1002),\n",
       " (1005, '28', 1002),\n",
       " (1006, '33', 1002),\n",
       " (1007, None, 1003),\n",
       " (1008, '32', 1003),\n",
       " (1009, '26', 1003),\n",
       " (1010, None, 1003),\n",
       " (1011, None, 1003),\n",
       " (1012, None, 1003),\n",
       " (1013, '23', 1004),\n",
       " (1014, '2', 1004),\n",
       " (1015, None, 1004),\n",
       " (1016, '44', 1004),\n",
       " (1017, None, 1004),\n",
       " (1018, None, 1004),\n",
       " (1019, None, 1005),\n",
       " (1020, None, 1005),\n",
       " (1021, '27', 1005),\n",
       " (1022, '43', 1005),\n",
       " (1023, None, 1005),\n",
       " (1024, None, 1005),\n",
       " (1025, None, 1006),\n",
       " (1026, '34', 1006),\n",
       " (1027, None, 1006),\n",
       " (1028, '24', 1006),\n",
       " (1029, None, 1006),\n",
       " (1030, '3', 1006),\n",
       " (1031, None, 1007),\n",
       " (1032, '1', 1007),\n",
       " (1033, '29', 1007),\n",
       " (1034, None, 1007),\n",
       " (1035, None, 1007),\n",
       " (1036, '41', 1007),\n",
       " (1037, None, 1008),\n",
       " (1038, '15', 1008),\n",
       " (1039, '42', 1008)]"
      ]
     },
     "execution_count": 8,
     "metadata": {},
     "output_type": "execute_result"
    }
   ],
   "source": [
    "emy2"
   ]
  },
  {
   "cell_type": "code",
   "execution_count": 9,
   "metadata": {},
   "outputs": [],
   "source": [
    "emy = []\n",
    "for row in c.execute('SELECT distinct cid from cluster where number_of_seat-number_owned >0'):\n",
    "    emy.append(*row)"
   ]
  },
  {
   "cell_type": "code",
   "execution_count": 10,
   "metadata": {},
   "outputs": [
    {
     "data": {
      "text/plain": [
       "[1, 3, 4, 5, 6, 9, 10, 1003, 1004, 1005, 1006, 1007, 1008]"
      ]
     },
     "execution_count": 10,
     "metadata": {},
     "output_type": "execute_result"
    }
   ],
   "source": [
    "emy"
   ]
  },
  {
   "cell_type": "code",
   "execution_count": 13,
   "metadata": {},
   "outputs": [],
   "source": [
    "emy = []\n",
    "for row in c.execute('SELECT * from users'):\n",
    "    emy.append(list(row))"
   ]
  },
  {
   "cell_type": "code",
   "execution_count": 14,
   "metadata": {},
   "outputs": [
    {
     "data": {
      "text/plain": [
       "[['1', 'test1'],\n",
       " ['2', 'test2'],\n",
       " ['3', 'test3'],\n",
       " ['4', 'test4'],\n",
       " ['5', 'test5'],\n",
       " ['6', 'test6'],\n",
       " ['7', 'test7'],\n",
       " ['8', 'test8'],\n",
       " ['9', 'test9'],\n",
       " ['10', 'test10'],\n",
       " ['11', 'test11'],\n",
       " ['12', 'test12'],\n",
       " ['13', 'test13'],\n",
       " ['14', 'test14'],\n",
       " ['15', 'test15'],\n",
       " ['16', 'test16'],\n",
       " ['17', 'test17'],\n",
       " ['18', 'test18'],\n",
       " ['19', 'test19'],\n",
       " ['20', 'test20'],\n",
       " ['21', 'test21'],\n",
       " ['22', 'test22'],\n",
       " ['23', 'test23'],\n",
       " ['24', 'test24'],\n",
       " ['25', 'test25'],\n",
       " ['26', 'test26'],\n",
       " ['27', 'test27'],\n",
       " ['28', 'test28'],\n",
       " ['29', 'test29'],\n",
       " ['30', 'test30'],\n",
       " ['31', 'test31'],\n",
       " ['32', 'test32'],\n",
       " ['33', 'test33'],\n",
       " ['34', 'test34'],\n",
       " ['35', 'test35'],\n",
       " ['36', 'test36'],\n",
       " ['37', 'test37'],\n",
       " ['38', 'test38'],\n",
       " ['39', 'test39'],\n",
       " ['40', 'test40'],\n",
       " ['41', 'test41'],\n",
       " ['42', 'test42'],\n",
       " ['43', 'test43'],\n",
       " ['44', 'test44'],\n",
       " ['45', 'test45'],\n",
       " ['46', 'test46'],\n",
       " ['47', 'test47'],\n",
       " ['48', 'test48'],\n",
       " ['49', 'test49'],\n",
       " ['50', 'test50']]"
      ]
     },
     "execution_count": 14,
     "metadata": {},
     "output_type": "execute_result"
    }
   ],
   "source": [
    "emy"
   ]
  },
  {
   "cell_type": "code",
   "execution_count": 15,
   "metadata": {},
   "outputs": [
    {
     "data": {
      "text/plain": [
       "['26', 'test26']"
      ]
     },
     "execution_count": 15,
     "metadata": {},
     "output_type": "execute_result"
    }
   ],
   "source": [
    "random.choice(emy)"
   ]
  },
  {
   "cell_type": "code",
   "execution_count": 16,
   "metadata": {},
   "outputs": [],
   "source": [
    "first_pool = []\n",
    "for row in c.execute('SELECT distinct cid from cluster where number_of_seat-number_owned >0'):\n",
    "    first_pool.append(*row)"
   ]
  },
  {
   "cell_type": "code",
   "execution_count": 17,
   "metadata": {},
   "outputs": [
    {
     "data": {
      "text/plain": [
       "[1, 3, 4, 5, 6, 9, 10, 1003, 1004, 1005, 1006, 1007, 1008]"
      ]
     },
     "execution_count": 17,
     "metadata": {},
     "output_type": "execute_result"
    }
   ],
   "source": [
    "first_pool"
   ]
  },
  {
   "cell_type": "code",
   "execution_count": 22,
   "metadata": {},
   "outputs": [],
   "source": [
    "user_list = []\n",
    "for row in c.execute('SELECT users.pid, users.full_name, seat.owner_id from users left join seat on users.pid = seat.owner_id where \\\n",
    "                     seat.owner_id is null'):\n",
    "    user_list.append(row)"
   ]
  },
  {
   "cell_type": "code",
   "execution_count": 23,
   "metadata": {},
   "outputs": [
    {
     "data": {
      "text/plain": [
       "[('1', 'test1', '1'),\n",
       " ('2', 'test2', '2'),\n",
       " ('3', 'test3', '3'),\n",
       " ('4', 'test4', '4'),\n",
       " ('5', 'test5', '5'),\n",
       " ('6', 'test6', '6'),\n",
       " ('7', 'test7', '7'),\n",
       " ('8', 'test8', '8'),\n",
       " ('9', 'test9', '9'),\n",
       " ('10', 'test10', '10'),\n",
       " ('11', 'test11', '11'),\n",
       " ('12', 'test12', '12'),\n",
       " ('13', 'test13', '13'),\n",
       " ('14', 'test14', '14'),\n",
       " ('15', 'test15', '15'),\n",
       " ('16', 'test16', '16'),\n",
       " ('17', 'test17', '17'),\n",
       " ('18', 'test18', '18'),\n",
       " ('19', 'test19', '19'),\n",
       " ('20', 'test20', '20'),\n",
       " ('21', 'test21', '21'),\n",
       " ('22', 'test22', '22'),\n",
       " ('23', 'test23', '23'),\n",
       " ('24', 'test24', '24'),\n",
       " ('25', 'test25', '25'),\n",
       " ('26', 'test26', '26'),\n",
       " ('27', 'test27', '27'),\n",
       " ('28', 'test28', '28'),\n",
       " ('29', 'test29', '29'),\n",
       " ('30', 'test30', '30'),\n",
       " ('31', 'test31', '31'),\n",
       " ('32', 'test32', '32'),\n",
       " ('33', 'test33', '33'),\n",
       " ('34', 'test34', '34'),\n",
       " ('35', 'test35', '35'),\n",
       " ('36', 'test36', '36'),\n",
       " ('37', 'test37', '37'),\n",
       " ('38', 'test38', '38'),\n",
       " ('39', 'test39', '39'),\n",
       " ('40', 'test40', '40'),\n",
       " ('41', 'test41', '41'),\n",
       " ('42', 'test42', '42'),\n",
       " ('43', 'test43', '43'),\n",
       " ('44', 'test44', '44'),\n",
       " ('45', 'test45', '45'),\n",
       " ('46', 'test46', '46'),\n",
       " ('47', 'test47', '47'),\n",
       " ('48', 'test48', '48'),\n",
       " ('49', 'test49', '49'),\n",
       " ('50', 'test50', '50')]"
      ]
     },
     "execution_count": 23,
     "metadata": {},
     "output_type": "execute_result"
    }
   ],
   "source": [
    "user_list"
   ]
  },
  {
   "cell_type": "code",
   "execution_count": 293,
   "metadata": {},
   "outputs": [],
   "source": [
    "a = user_list.pop()"
   ]
  },
  {
   "cell_type": "code",
   "execution_count": 295,
   "metadata": {},
   "outputs": [
    {
     "data": {
      "text/plain": [
       "'2020-10050'"
      ]
     },
     "execution_count": 295,
     "metadata": {},
     "output_type": "execute_result"
    }
   ],
   "source": [
    "a[0]"
   ]
  },
  {
   "cell_type": "code",
   "execution_count": 219,
   "metadata": {},
   "outputs": [
    {
     "data": {
      "text/plain": [
       "[1,\n",
       " 2,\n",
       " 3,\n",
       " 4,\n",
       " 5,\n",
       " 6,\n",
       " 7,\n",
       " 8,\n",
       " 9,\n",
       " 10,\n",
       " 11,\n",
       " 1001,\n",
       " 1002,\n",
       " 1003,\n",
       " 1004,\n",
       " 1005,\n",
       " 1006,\n",
       " 1007,\n",
       " 1008]"
      ]
     },
     "execution_count": 219,
     "metadata": {},
     "output_type": "execute_result"
    }
   ],
   "source": [
    "first_pool"
   ]
  },
  {
   "cell_type": "code",
   "execution_count": 323,
   "metadata": {},
   "outputs": [],
   "source": [
    "while user_list:\n",
    "    a= user_list.pop()\n",
    "    b= random.choice(first_pool)\n",
    "    first_pool.remove(b) \n",
    "    #a[0],b 활용해서 seat update\n",
    "    seat_pool = []\n",
    "    for row in c.execute(f'SELECT * from seat where cluster_id = {b} and owner_id is null'):\n",
    "        seat_pool.append(row[0])\n",
    "    selected_seat = random.choice(seat_pool)\n",
    "    \n",
    "    c.execute(f'''UPDATE seat SET owner_id ={str(a[0])} WHERE sid={selected_seat}''')\n",
    "    \n",
    "    c.execute(f'''UPDATE cluster SET number_owned =number_owned +1 WHERE cid ={b}''')\n",
    "    \n",
    "    if not first_pool:\n",
    "        first_pool = []\n",
    "        for row in c.execute('SELECT distinct cid from cluster where number_of_seat-number_owned >0'):\n",
    "            first_pool.append(*row)\n",
    "    "
   ]
  },
  {
   "cell_type": "code",
   "execution_count": 223,
   "metadata": {},
   "outputs": [
    {
     "data": {
      "text/plain": [
       "False"
      ]
     },
     "execution_count": 223,
     "metadata": {},
     "output_type": "execute_result"
    }
   ],
   "source": [
    "not bool(user_list)"
   ]
  },
  {
   "cell_type": "code",
   "execution_count": 229,
   "metadata": {},
   "outputs": [],
   "source": [
    "b= random.choice(first_pool)"
   ]
  },
  {
   "cell_type": "code",
   "execution_count": 230,
   "metadata": {},
   "outputs": [
    {
     "data": {
      "text/plain": [
       "1006"
      ]
     },
     "execution_count": 230,
     "metadata": {},
     "output_type": "execute_result"
    }
   ],
   "source": [
    "b"
   ]
  },
  {
   "cell_type": "code",
   "execution_count": 227,
   "metadata": {},
   "outputs": [],
   "source": [
    "first_pool.remove(b)"
   ]
  },
  {
   "cell_type": "code",
   "execution_count": 228,
   "metadata": {},
   "outputs": [
    {
     "data": {
      "text/plain": [
       "[1, 2, 3, 4, 5, 6, 7, 8, 9, 11, 1001, 1002, 1003, 1004, 1005, 1006, 1007, 1008]"
      ]
     },
     "execution_count": 228,
     "metadata": {},
     "output_type": "execute_result"
    }
   ],
   "source": [
    "first_pool"
   ]
  },
  {
   "cell_type": "code",
   "execution_count": 239,
   "metadata": {},
   "outputs": [],
   "source": [
    "seat_pool = []\n",
    "for row in c.execute(f'SELECT * from seat where cluster_id = {b} and owner_id is null'):\n",
    "    seat_pool.append(row[0])"
   ]
  },
  {
   "cell_type": "code",
   "execution_count": 240,
   "metadata": {},
   "outputs": [
    {
     "data": {
      "text/plain": [
       "[1025, 1026, 1027, 1028, 1029, 1030]"
      ]
     },
     "execution_count": 240,
     "metadata": {},
     "output_type": "execute_result"
    }
   ],
   "source": [
    "seat_pool"
   ]
  },
  {
   "cell_type": "code",
   "execution_count": 247,
   "metadata": {},
   "outputs": [
    {
     "data": {
      "text/plain": [
       "<sqlite3.Cursor at 0x7fa16d9f5420>"
      ]
     },
     "execution_count": 247,
     "metadata": {},
     "output_type": "execute_result"
    }
   ],
   "source": [
    "c.execute(f'''UPDATE cluster SET number_owned = number_owned +1 WHERE cid =10001''')"
   ]
  },
  {
   "cell_type": "code",
   "execution_count": null,
   "metadata": {},
   "outputs": [],
   "source": []
  }
 ],
 "metadata": {
  "kernelspec": {
   "display_name": "Python 3",
   "language": "python",
   "name": "python3"
  },
  "language_info": {
   "codemirror_mode": {
    "name": "ipython",
    "version": 3
   },
   "file_extension": ".py",
   "mimetype": "text/x-python",
   "name": "python",
   "nbconvert_exporter": "python",
   "pygments_lexer": "ipython3",
   "version": "3.7.6"
  }
 },
 "nbformat": 4,
 "nbformat_minor": 4
}
