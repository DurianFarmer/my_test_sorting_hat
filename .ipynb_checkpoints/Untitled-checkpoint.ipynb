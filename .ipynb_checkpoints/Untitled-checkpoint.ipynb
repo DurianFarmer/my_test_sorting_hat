{
 "cells": [
  {
   "cell_type": "code",
   "execution_count": 1,
   "metadata": {},
   "outputs": [],
   "source": [
    "import csv"
   ]
  },
  {
   "cell_type": "code",
   "execution_count": 2,
   "metadata": {},
   "outputs": [],
   "source": [
    "usertable = open('usertable.csv','r')\n",
    "rdr = csv.reader(usertable)\n",
    "user = []\n",
    "for row in rdr:\n",
    "    user.append(tuple(row))"
   ]
  },
  {
   "cell_type": "code",
   "execution_count": 3,
   "metadata": {},
   "outputs": [
    {
     "data": {
      "text/plain": [
       "[('2020-20826', 'jaehwan lim'),\n",
       " ('2020-11111', 'test1'),\n",
       " ('2020-11112', 'test2'),\n",
       " ('2020-11113', 'test3'),\n",
       " ('2020-11114', 'test4'),\n",
       " ('2020-11115', 'test5')]"
      ]
     },
     "execution_count": 3,
     "metadata": {},
     "output_type": "execute_result"
    }
   ],
   "source": [
    "user"
   ]
  },
  {
   "cell_type": "code",
   "execution_count": 4,
   "metadata": {},
   "outputs": [],
   "source": [
    "usertable.close()\n"
   ]
  },
  {
   "cell_type": "code",
   "execution_count": 5,
   "metadata": {},
   "outputs": [],
   "source": [
    "clustertable = open('clustertable.csv','r')\n",
    "reader = csv.reader(clustertable)\n",
    "cluster = []\n",
    "for row in reader:\n",
    "    cluster.append(tuple(map(int,row)))"
   ]
  },
  {
   "cell_type": "code",
   "execution_count": 6,
   "metadata": {},
   "outputs": [],
   "source": [
    "for row in reader:\n",
    "    cluster.append(tuple(map(int,row)))"
   ]
  },
  {
   "cell_type": "code",
   "execution_count": 7,
   "metadata": {},
   "outputs": [
    {
     "data": {
      "text/plain": [
       "[(1, 6, 0),\n",
       " (2, 3, 0),\n",
       " (3, 3, 0),\n",
       " (4, 6, 0),\n",
       " (5, 6, 0),\n",
       " (1001, 6, 0),\n",
       " (1002, 3, 0)]"
      ]
     },
     "execution_count": 7,
     "metadata": {},
     "output_type": "execute_result"
    }
   ],
   "source": [
    "cluster"
   ]
  },
  {
   "cell_type": "code",
   "execution_count": 8,
   "metadata": {},
   "outputs": [],
   "source": [
    "clustertable.close()"
   ]
  },
  {
   "cell_type": "code",
   "execution_count": 16,
   "metadata": {},
   "outputs": [],
   "source": [
    "seattable = open('seattable.csv','r')\n",
    "reader1= csv.reader(seattable)\n",
    "seat = []\n",
    "conv = lambda i : i or None\n",
    "for row in reader1:\n",
    "    try:\n",
    "        seat.append(((int(row[0]),conv(row[1]),int(conv(row[2])))))\n",
    "    except TypeError:\n",
    "        seat.append(((int(row[0]),conv(row[1]),conv(row[2]))))"
   ]
  },
  {
   "cell_type": "code",
   "execution_count": 10,
   "metadata": {},
   "outputs": [],
   "source": [
    "cluster[0]= None"
   ]
  },
  {
   "cell_type": "code",
   "execution_count": 17,
   "metadata": {},
   "outputs": [
    {
     "ename": "TypeError",
     "evalue": "int() argument must be a string, a bytes-like object or a number, not 'NoneType'",
     "output_type": "error",
     "traceback": [
      "\u001b[0;31m---------------------------------------------------------------------------\u001b[0m",
      "\u001b[0;31mTypeError\u001b[0m                                 Traceback (most recent call last)",
      "\u001b[0;32m<ipython-input-17-7e04b6fa7dca>\u001b[0m in \u001b[0;36m<module>\u001b[0;34m\u001b[0m\n\u001b[0;32m----> 1\u001b[0;31m \u001b[0mint\u001b[0m\u001b[0;34m(\u001b[0m\u001b[0mseat\u001b[0m\u001b[0;34m[\u001b[0m\u001b[0;36m0\u001b[0m\u001b[0;34m]\u001b[0m\u001b[0;34m[\u001b[0m\u001b[0;36m1\u001b[0m\u001b[0;34m]\u001b[0m\u001b[0;34m)\u001b[0m\u001b[0;34m\u001b[0m\u001b[0;34m\u001b[0m\u001b[0m\n\u001b[0m",
      "\u001b[0;31mTypeError\u001b[0m: int() argument must be a string, a bytes-like object or a number, not 'NoneType'"
     ]
    }
   ],
   "source": [
    "int(seat[0][1])"
   ]
  },
  {
   "cell_type": "code",
   "execution_count": 18,
   "metadata": {},
   "outputs": [
    {
     "data": {
      "text/plain": [
       "[(1, None, None),\n",
       " (2, None, None),\n",
       " (3, None, None),\n",
       " (4, None, None),\n",
       " (5, None, None),\n",
       " (1001, None, None),\n",
       " (1002, None, None),\n",
       " (1003, '2', 1)]"
      ]
     },
     "execution_count": 18,
     "metadata": {},
     "output_type": "execute_result"
    }
   ],
   "source": [
    "seat"
   ]
  },
  {
   "cell_type": "code",
   "execution_count": 18,
   "metadata": {},
   "outputs": [],
   "source": [
    "import sqlite3\n",
    "import csv"
   ]
  },
  {
   "cell_type": "code",
   "execution_count": 19,
   "metadata": {},
   "outputs": [],
   "source": [
    "conn = sqlite3.connect('test.db')"
   ]
  },
  {
   "cell_type": "code",
   "execution_count": 20,
   "metadata": {},
   "outputs": [],
   "source": [
    "c = conn.cursor()"
   ]
  },
  {
   "cell_type": "code",
   "execution_count": 21,
   "metadata": {},
   "outputs": [],
   "source": [
    "import random"
   ]
  },
  {
   "cell_type": "code",
   "execution_count": 22,
   "metadata": {},
   "outputs": [],
   "source": [
    "emy1 = []\n",
    "for row in c.execute('SELECT * from cluster'):\n",
    "    emy1.append(row)"
   ]
  },
  {
   "cell_type": "code",
   "execution_count": 23,
   "metadata": {},
   "outputs": [
    {
     "data": {
      "text/plain": [
       "[(1, 3, 0),\n",
       " (2, 3, 0),\n",
       " (3, 6, 0),\n",
       " (4, 6, 0),\n",
       " (5, 6, 0),\n",
       " (6, 6, 0),\n",
       " (7, 3, 0),\n",
       " (8, 3, 0),\n",
       " (9, 6, 0),\n",
       " (10, 6, 0),\n",
       " (11, 3, 0),\n",
       " (1001, 3, 0),\n",
       " (1002, 3, 0),\n",
       " (1003, 6, 0),\n",
       " (1004, 6, 0),\n",
       " (1005, 6, 0),\n",
       " (1006, 6, 0),\n",
       " (1007, 6, 0),\n",
       " (1008, 3, 0)]"
      ]
     },
     "execution_count": 23,
     "metadata": {},
     "output_type": "execute_result"
    }
   ],
   "source": [
    "emy1"
   ]
  },
  {
   "cell_type": "code",
   "execution_count": 24,
   "metadata": {},
   "outputs": [],
   "source": [
    "emy2 = []\n",
    "for row in c.execute('SELECT * from seat'):\n",
    "    emy2.append(row)"
   ]
  },
  {
   "cell_type": "code",
   "execution_count": 25,
   "metadata": {},
   "outputs": [
    {
     "data": {
      "text/plain": [
       "[(1, None, 1),\n",
       " (2, None, 1),\n",
       " (3, None, 1),\n",
       " (4, None, 2),\n",
       " (5, None, 2),\n",
       " (6, None, 2),\n",
       " (7, None, 3),\n",
       " (8, None, 3),\n",
       " (9, None, 3),\n",
       " (10, None, 3),\n",
       " (11, None, 3),\n",
       " (12, None, 3),\n",
       " (13, None, 4),\n",
       " (14, None, 4),\n",
       " (15, None, 4),\n",
       " (16, None, 4),\n",
       " (17, None, 4),\n",
       " (18, None, 4),\n",
       " (19, None, 5),\n",
       " (20, None, 5),\n",
       " (21, None, 5),\n",
       " (22, None, 5),\n",
       " (23, None, 5),\n",
       " (24, None, 5),\n",
       " (25, None, 6),\n",
       " (26, None, 6),\n",
       " (27, None, 6),\n",
       " (28, None, 6),\n",
       " (29, None, 6),\n",
       " (30, None, 6),\n",
       " (31, None, 7),\n",
       " (32, None, 7),\n",
       " (33, None, 7),\n",
       " (34, None, 8),\n",
       " (35, None, 8),\n",
       " (36, None, 8),\n",
       " (37, None, 9),\n",
       " (38, None, 9),\n",
       " (39, None, 9),\n",
       " (40, None, 9),\n",
       " (41, None, 9),\n",
       " (42, None, 9),\n",
       " (43, None, 10),\n",
       " (44, None, 10),\n",
       " (45, None, 10),\n",
       " (46, None, 10),\n",
       " (47, None, 10),\n",
       " (48, None, 10),\n",
       " (49, None, 11),\n",
       " (50, None, 11),\n",
       " (51, None, 11),\n",
       " (1001, None, 1001),\n",
       " (1002, None, 1001),\n",
       " (1003, None, 1001),\n",
       " (1004, None, 1002),\n",
       " (1005, None, 1002),\n",
       " (1006, None, 1002),\n",
       " (1007, None, 1003),\n",
       " (1008, None, 1003),\n",
       " (1009, None, 1003),\n",
       " (1010, None, 1003),\n",
       " (1011, None, 1003),\n",
       " (1012, None, 1003),\n",
       " (1013, None, 1004),\n",
       " (1014, None, 1004),\n",
       " (1015, None, 1004),\n",
       " (1016, None, 1004),\n",
       " (1017, None, 1004),\n",
       " (1018, None, 1004),\n",
       " (1019, None, 1005),\n",
       " (1020, None, 1005),\n",
       " (1021, None, 1005),\n",
       " (1022, None, 1005),\n",
       " (1023, None, 1005),\n",
       " (1024, None, 1005),\n",
       " (1025, None, 1006),\n",
       " (1026, None, 1006),\n",
       " (1027, None, 1006),\n",
       " (1028, None, 1006),\n",
       " (1029, None, 1006),\n",
       " (1030, None, 1006),\n",
       " (1031, None, 1007),\n",
       " (1032, None, 1007),\n",
       " (1033, None, 1007),\n",
       " (1034, None, 1007),\n",
       " (1035, None, 1007),\n",
       " (1036, None, 1007),\n",
       " (1037, None, 1008),\n",
       " (1038, None, 1008),\n",
       " (1039, None, 1008)]"
      ]
     },
     "execution_count": 25,
     "metadata": {},
     "output_type": "execute_result"
    }
   ],
   "source": [
    "emy2"
   ]
  },
  {
   "cell_type": "code",
   "execution_count": 328,
   "metadata": {},
   "outputs": [],
   "source": [
    "emy = []\n",
    "for row in c.execute('SELECT distinct cid from cluster where number_of_seat-number_owned >0'):\n",
    "    emy.append(*row)"
   ]
  },
  {
   "cell_type": "code",
   "execution_count": 329,
   "metadata": {},
   "outputs": [
    {
     "data": {
      "text/plain": [
       "[1, 2, 3, 4, 5, 6, 7, 9, 10, 1001, 1003, 1004, 1005, 1006, 1007]"
      ]
     },
     "execution_count": 329,
     "metadata": {},
     "output_type": "execute_result"
    }
   ],
   "source": [
    "emy"
   ]
  },
  {
   "cell_type": "code",
   "execution_count": 275,
   "metadata": {},
   "outputs": [],
   "source": [
    "emy = []\n",
    "for row in c.execute('SELECT * from seat where cluster_id=1'):\n",
    "    emy.append(list(row))"
   ]
  },
  {
   "cell_type": "code",
   "execution_count": 276,
   "metadata": {},
   "outputs": [
    {
     "data": {
      "text/plain": [
       "[[1, None, 1], [2, None, 1], [3, None, 1]]"
      ]
     },
     "execution_count": 276,
     "metadata": {},
     "output_type": "execute_result"
    }
   ],
   "source": [
    "emy"
   ]
  },
  {
   "cell_type": "code",
   "execution_count": 277,
   "metadata": {},
   "outputs": [
    {
     "data": {
      "text/plain": [
       "[3, None, 1]"
      ]
     },
     "execution_count": 277,
     "metadata": {},
     "output_type": "execute_result"
    }
   ],
   "source": [
    "random.choice(emy)"
   ]
  },
  {
   "cell_type": "code",
   "execution_count": 319,
   "metadata": {},
   "outputs": [],
   "source": [
    "first_pool = []\n",
    "for row in c.execute('SELECT distinct cid from cluster where number_of_seat-number_owned >0'):\n",
    "    first_pool.append(*row)"
   ]
  },
  {
   "cell_type": "code",
   "execution_count": 305,
   "metadata": {},
   "outputs": [
    {
     "data": {
      "text/plain": [
       "[1,\n",
       " 2,\n",
       " 3,\n",
       " 4,\n",
       " 5,\n",
       " 6,\n",
       " 7,\n",
       " 8,\n",
       " 9,\n",
       " 10,\n",
       " 11,\n",
       " 1001,\n",
       " 1002,\n",
       " 1003,\n",
       " 1004,\n",
       " 1005,\n",
       " 1006,\n",
       " 1007,\n",
       " 1008]"
      ]
     },
     "execution_count": 305,
     "metadata": {},
     "output_type": "execute_result"
    }
   ],
   "source": [
    "first_pool"
   ]
  },
  {
   "cell_type": "code",
   "execution_count": 9,
   "metadata": {},
   "outputs": [],
   "source": [
    "user_list = []\n",
    "for row in c.execute('SELECT users.pid, users.full_name, seat.owner_id from users left join seat on users.pid = seat.owner_id where \\\n",
    "                     seat.owner_id is null'):\n",
    "    user_list.append(row)"
   ]
  },
  {
   "cell_type": "code",
   "execution_count": 10,
   "metadata": {},
   "outputs": [
    {
     "data": {
      "text/plain": [
       "[('1', 'test1', None),\n",
       " ('2', 'test2', None),\n",
       " ('3', 'test3', None),\n",
       " ('4', 'test4', None),\n",
       " ('5', 'test5', None),\n",
       " ('6', 'test6', None),\n",
       " ('7', 'test7', None),\n",
       " ('8', 'test8', None),\n",
       " ('9', 'test9', None),\n",
       " ('10', 'test10', None),\n",
       " ('11', 'test11', None),\n",
       " ('12', 'test12', None),\n",
       " ('13', 'test13', None),\n",
       " ('14', 'test14', None),\n",
       " ('15', 'test15', None),\n",
       " ('16', 'test16', None),\n",
       " ('17', 'test17', None),\n",
       " ('18', 'test18', None),\n",
       " ('19', 'test19', None),\n",
       " ('20', 'test20', None),\n",
       " ('21', 'test21', None),\n",
       " ('22', 'test22', None),\n",
       " ('23', 'test23', None),\n",
       " ('24', 'test24', None),\n",
       " ('25', 'test25', None),\n",
       " ('26', 'test26', None),\n",
       " ('27', 'test27', None),\n",
       " ('28', 'test28', None),\n",
       " ('29', 'test29', None),\n",
       " ('30', 'test30', None),\n",
       " ('31', 'test31', None),\n",
       " ('32', 'test32', None),\n",
       " ('33', 'test33', None),\n",
       " ('34', 'test34', None),\n",
       " ('35', 'test35', None),\n",
       " ('36', 'test36', None),\n",
       " ('37', 'test37', None),\n",
       " ('38', 'test38', None),\n",
       " ('39', 'test39', None),\n",
       " ('40', 'test40', None),\n",
       " ('41', 'test41', None),\n",
       " ('42', 'test42', None),\n",
       " ('43', 'test43', None),\n",
       " ('44', 'test44', None),\n",
       " ('45', 'test45', None),\n",
       " ('46', 'test46', None),\n",
       " ('47', 'test47', None),\n",
       " ('48', 'test48', None),\n",
       " ('49', 'test49', None),\n",
       " ('50', 'test50', None)]"
      ]
     },
     "execution_count": 10,
     "metadata": {},
     "output_type": "execute_result"
    }
   ],
   "source": [
    "user_list"
   ]
  },
  {
   "cell_type": "code",
   "execution_count": 293,
   "metadata": {},
   "outputs": [],
   "source": [
    "a = user_list.pop()"
   ]
  },
  {
   "cell_type": "code",
   "execution_count": 295,
   "metadata": {},
   "outputs": [
    {
     "data": {
      "text/plain": [
       "'2020-10050'"
      ]
     },
     "execution_count": 295,
     "metadata": {},
     "output_type": "execute_result"
    }
   ],
   "source": [
    "a[0]"
   ]
  },
  {
   "cell_type": "code",
   "execution_count": 219,
   "metadata": {},
   "outputs": [
    {
     "data": {
      "text/plain": [
       "[1,\n",
       " 2,\n",
       " 3,\n",
       " 4,\n",
       " 5,\n",
       " 6,\n",
       " 7,\n",
       " 8,\n",
       " 9,\n",
       " 10,\n",
       " 11,\n",
       " 1001,\n",
       " 1002,\n",
       " 1003,\n",
       " 1004,\n",
       " 1005,\n",
       " 1006,\n",
       " 1007,\n",
       " 1008]"
      ]
     },
     "execution_count": 219,
     "metadata": {},
     "output_type": "execute_result"
    }
   ],
   "source": [
    "first_pool"
   ]
  },
  {
   "cell_type": "code",
   "execution_count": 323,
   "metadata": {},
   "outputs": [],
   "source": [
    "while user_list:\n",
    "    a= user_list.pop()\n",
    "    b= random.choice(first_pool)\n",
    "    first_pool.remove(b) \n",
    "    #a[0],b 활용해서 seat update\n",
    "    seat_pool = []\n",
    "    for row in c.execute(f'SELECT * from seat where cluster_id = {b} and owner_id is null'):\n",
    "        seat_pool.append(row[0])\n",
    "    selected_seat = random.choice(seat_pool)\n",
    "    \n",
    "    c.execute(f'''UPDATE seat SET owner_id ={str(a[0])} WHERE sid={selected_seat}''')\n",
    "    \n",
    "    c.execute(f'''UPDATE cluster SET number_owned =number_owned +1 WHERE cid ={b}''')\n",
    "    \n",
    "    if not first_pool:\n",
    "        first_pool = []\n",
    "        for row in c.execute('SELECT distinct cid from cluster where number_of_seat-number_owned >0'):\n",
    "            first_pool.append(*row)\n",
    "    "
   ]
  },
  {
   "cell_type": "code",
   "execution_count": 223,
   "metadata": {},
   "outputs": [
    {
     "data": {
      "text/plain": [
       "False"
      ]
     },
     "execution_count": 223,
     "metadata": {},
     "output_type": "execute_result"
    }
   ],
   "source": [
    "not bool(user_list)"
   ]
  },
  {
   "cell_type": "code",
   "execution_count": 229,
   "metadata": {},
   "outputs": [],
   "source": [
    "b= random.choice(first_pool)"
   ]
  },
  {
   "cell_type": "code",
   "execution_count": 230,
   "metadata": {},
   "outputs": [
    {
     "data": {
      "text/plain": [
       "1006"
      ]
     },
     "execution_count": 230,
     "metadata": {},
     "output_type": "execute_result"
    }
   ],
   "source": [
    "b"
   ]
  },
  {
   "cell_type": "code",
   "execution_count": 227,
   "metadata": {},
   "outputs": [],
   "source": [
    "first_pool.remove(b)"
   ]
  },
  {
   "cell_type": "code",
   "execution_count": 228,
   "metadata": {},
   "outputs": [
    {
     "data": {
      "text/plain": [
       "[1, 2, 3, 4, 5, 6, 7, 8, 9, 11, 1001, 1002, 1003, 1004, 1005, 1006, 1007, 1008]"
      ]
     },
     "execution_count": 228,
     "metadata": {},
     "output_type": "execute_result"
    }
   ],
   "source": [
    "first_pool"
   ]
  },
  {
   "cell_type": "code",
   "execution_count": 239,
   "metadata": {},
   "outputs": [],
   "source": [
    "seat_pool = []\n",
    "for row in c.execute(f'SELECT * from seat where cluster_id = {b} and owner_id is null'):\n",
    "    seat_pool.append(row[0])"
   ]
  },
  {
   "cell_type": "code",
   "execution_count": 240,
   "metadata": {},
   "outputs": [
    {
     "data": {
      "text/plain": [
       "[1025, 1026, 1027, 1028, 1029, 1030]"
      ]
     },
     "execution_count": 240,
     "metadata": {},
     "output_type": "execute_result"
    }
   ],
   "source": [
    "seat_pool"
   ]
  },
  {
   "cell_type": "code",
   "execution_count": 247,
   "metadata": {},
   "outputs": [
    {
     "data": {
      "text/plain": [
       "<sqlite3.Cursor at 0x7fa16d9f5420>"
      ]
     },
     "execution_count": 247,
     "metadata": {},
     "output_type": "execute_result"
    }
   ],
   "source": [
    "c.execute(f'''UPDATE cluster SET number_owned = number_owned +1 WHERE cid =10001''')"
   ]
  },
  {
   "cell_type": "code",
   "execution_count": null,
   "metadata": {},
   "outputs": [],
   "source": []
  }
 ],
 "metadata": {
  "kernelspec": {
   "display_name": "Python 3",
   "language": "python",
   "name": "python3"
  },
  "language_info": {
   "codemirror_mode": {
    "name": "ipython",
    "version": 3
   },
   "file_extension": ".py",
   "mimetype": "text/x-python",
   "name": "python",
   "nbconvert_exporter": "python",
   "pygments_lexer": "ipython3",
   "version": "3.7.6"
  }
 },
 "nbformat": 4,
 "nbformat_minor": 4
}
